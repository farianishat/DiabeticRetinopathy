{
 "cells": [
  {
   "cell_type": "code",
   "execution_count": null,
   "id": "fec961c6-d06d-40e4-b870-8dc1fd3ead62",
   "metadata": {},
   "outputs": [],
   "source": [
    "# # Install numpy\n",
    "# !pip install numpy\n",
    "\n",
    "# # Install pandas\n",
    "# !pip install pandas\n",
    "\n",
    "# # Install matplotlib\n",
    "# !pip install matplotlib\n",
    "\n",
    "# # Install seaborn\n",
    "# !pip install seaborn\n",
    "\n",
    "# # Install TensorFlow\n",
    "# !pip install tensorflow\n",
    "\n",
    "# # Install scikit-learn\n",
    "# !pip install scikit-learn\n"
   ]
  },
  {
   "cell_type": "code",
   "execution_count": 18,
   "id": "413e66cf-d6de-4591-bbb3-66d594f90329",
   "metadata": {},
   "outputs": [],
   "source": [
    "# ### Importing the required libraries\n",
    "import numpy as np\n",
    "import pandas as pd\n",
    "import matplotlib.pyplot as plt\n",
    "import seaborn as sns\n",
    "import tensorflow as tf\n",
    "from tensorflow.keras.preprocessing.image import ImageDataGenerator\n",
    "from tensorflow.keras.applications import ResNet50, InceptionV3, VGG16\n",
    "from tensorflow.keras.applications.efficientnet import EfficientNetB0  # Correct import for EfficientNetB0\n",
    "from tensorflow.keras.layers import Dense, GlobalAveragePooling2D, Dropout, Concatenate, Input\n",
    "from tensorflow.keras.models import Model\n",
    "from tensorflow.keras.optimizers import Adam\n",
    "from sklearn.metrics import classification_report, confusion_matrix"
   ]
  },
  {
   "cell_type": "code",
   "execution_count": 3,
   "id": "8d18dc26-dc9c-478f-9cf7-445afc3594bc",
   "metadata": {},
   "outputs": [],
   "source": [
    "# Load and Inspect the Data\n",
    "csv_file = r'C:\\Users\\nisha\\Desktop\\Projects\\DiabeticRetinopathy\\Dataset\\messidor_data.csv'  # CSV file path\n",
    "df = pd.read_csv(csv_file)"
   ]
  },
  {
   "cell_type": "code",
   "execution_count": 4,
   "id": "e29ca6c9-6b12-4443-93a7-36cdade97eed",
   "metadata": {},
   "outputs": [
    {
     "name": "stdout",
     "output_type": "stream",
     "text": [
      "                     image_id  adjudicated_dr_grade  adjudicated_dme  \\\n",
      "0  20051020_43808_0100_PP.png                   0.0              0.0   \n",
      "1  20051020_43832_0100_PP.png                   1.0              0.0   \n",
      "2  20051020_43882_0100_PP.png                   1.0              0.0   \n",
      "3  20051020_43906_0100_PP.png                   2.0              1.0   \n",
      "4  20051020_44261_0100_PP.png                   0.0              0.0   \n",
      "\n",
      "   adjudicated_gradable  \n",
      "0                     1  \n",
      "1                     1  \n",
      "2                     1  \n",
      "3                     1  \n",
      "4                     1  \n"
     ]
    }
   ],
   "source": [
    "# Display the first few rows of the dataset\n",
    "print(df.head())"
   ]
  },
  {
   "cell_type": "code",
   "execution_count": 5,
   "id": "b942dd3b-95a5-453c-830d-824f3f03e038",
   "metadata": {},
   "outputs": [],
   "source": [
    "# Filter out ungradable images\n",
    "df = df[df['adjudicated_gradable'] == 1]\n",
    "\n",
    "# Drop the 'adjudicated_gradable' column as it's not needed anymore\n",
    "df = df.drop(columns=['adjudicated_gradable'])"
   ]
  },
  {
   "cell_type": "code",
   "execution_count": 6,
   "id": "dc74c33b-06ca-4782-9382-4c8e48dda7e9",
   "metadata": {},
   "outputs": [],
   "source": [
    "# Convert the 'adjudicated_dr_grade' column to string\n",
    "df['adjudicated_dr_grade'] = df['adjudicated_dr_grade'].astype(str)"
   ]
  },
  {
   "cell_type": "code",
   "execution_count": 7,
   "id": "111771b0-146e-4f85-8f4a-b674ce0d53d1",
   "metadata": {},
   "outputs": [
    {
     "name": "stdout",
     "output_type": "stream",
     "text": [
      "Distribution of DR grades:\n",
      "adjudicated_dr_grade\n",
      "0.0    1017\n",
      "2.0     347\n",
      "1.0     270\n",
      "3.0      75\n",
      "4.0      35\n",
      "Name: count, dtype: int64\n",
      "Distribution of DME grades:\n",
      "adjudicated_dme\n",
      "0.0    1593\n",
      "1.0     151\n",
      "Name: count, dtype: int64\n"
     ]
    }
   ],
   "source": [
    "# Display the class distribution of DR and DME\n",
    "print(\"Distribution of DR grades:\")\n",
    "print(df['adjudicated_dr_grade'].value_counts())\n",
    "print(\"Distribution of DME grades:\")\n",
    "print(df['adjudicated_dme'].value_counts())"
   ]
  },
  {
   "cell_type": "code",
   "execution_count": 8,
   "id": "88b028dc-cfc5-4caf-8760-748871a5c7f3",
   "metadata": {},
   "outputs": [
    {
     "name": "stdout",
     "output_type": "stream",
     "text": [
      "Number of classes: 5\n"
     ]
    }
   ],
   "source": [
    "# Determine the number of unique classes for the target variable\n",
    "num_classes = df['adjudicated_dr_grade'].nunique()\n",
    "print(f\"Number of classes: {num_classes}\")"
   ]
  },
  {
   "cell_type": "code",
   "execution_count": 9,
   "id": "512a9f78-87d4-438c-99b8-2ad6ce9f4d9f",
   "metadata": {},
   "outputs": [],
   "source": [
    "# Prepare the image data generator\n",
    "image_dir = r'C:\\Users\\nisha\\Desktop\\Projects\\DiabeticRetinopathy\\Images'  # Update this to your actual image directory path\n",
    "img_height, img_width = 224, 224\n",
    "batch_size = 32"
   ]
  },
  {
   "cell_type": "code",
   "execution_count": 10,
   "id": "f93662e4-bf3f-42dd-8491-b0ea8b3582e6",
   "metadata": {},
   "outputs": [],
   "source": [
    "# Data generator with augmentation options\n",
    "data_gen = ImageDataGenerator(\n",
    "    rescale=1./255,\n",
    "    validation_split=0.2,\n",
    "    rotation_range=20,     # Rotate the images randomly\n",
    "    width_shift_range=0.2, # Shift the image width-wise\n",
    "    height_shift_range=0.2,# Shift the image height-wise\n",
    "    shear_range=0.2,       # Apply shear transformation\n",
    "    zoom_range=0.2,        # Randomly zoom into images\n",
    "    horizontal_flip=True,  # Flip images horizontally\n",
    "    vertical_flip=True     # Flip images vertically (if applicable)\n",
    ")"
   ]
  },
  {
   "cell_type": "code",
   "execution_count": 11,
   "id": "f0776112-ddaa-4d75-9085-42da70d4f326",
   "metadata": {},
   "outputs": [
    {
     "name": "stdout",
     "output_type": "stream",
     "text": [
      "Found 1396 validated image filenames belonging to 5 classes.\n"
     ]
    }
   ],
   "source": [
    "# Data generator for training\n",
    "train_generator = data_gen.flow_from_dataframe(\n",
    "    dataframe=df,\n",
    "    directory=image_dir,\n",
    "    x_col='image_id',\n",
    "    y_col='adjudicated_dr_grade',\n",
    "    target_size=(img_height, img_width),\n",
    "    batch_size=batch_size,\n",
    "    class_mode='categorical',\n",
    "    subset='training'\n",
    ")"
   ]
  },
  {
   "cell_type": "code",
   "execution_count": 23,
   "id": "3c447c9f-18e1-4fde-8c6c-3c1c3a6ef2c6",
   "metadata": {},
   "outputs": [
    {
     "name": "stdout",
     "output_type": "stream",
     "text": [
      "Found 1396 validated image filenames belonging to 5 classes.\n"
     ]
    }
   ],
   "source": [
    "# Data generator for training\n",
    "train_generator = data_gen.flow_from_dataframe(\n",
    "    dataframe=df,\n",
    "    directory=image_dir,\n",
    "    x_col='image_id',\n",
    "    y_col='adjudicated_dr_grade',\n",
    "    target_size=(img_height, img_width),\n",
    "    batch_size=batch_size,\n",
    "    class_mode='categorical',\n",
    "    subset='training'\n",
    ")"
   ]
  },
  {
   "cell_type": "code",
   "execution_count": 12,
   "id": "9412ddd6-e3b0-41df-893c-cb4b3aaeb4fd",
   "metadata": {},
   "outputs": [
    {
     "name": "stdout",
     "output_type": "stream",
     "text": [
      "Found 348 validated image filenames belonging to 5 classes.\n"
     ]
    }
   ],
   "source": [
    "# Data generator for validation\n",
    "validation_generator = data_gen.flow_from_dataframe(\n",
    "    dataframe=df,\n",
    "    directory=image_dir,\n",
    "    x_col='image_id',\n",
    "    y_col='adjudicated_dr_grade',\n",
    "    target_size=(img_height, img_width),\n",
    "    batch_size=batch_size,\n",
    "    class_mode='categorical',\n",
    "    subset='validation'\n",
    ")"
   ]
  },
  {
   "cell_type": "code",
   "execution_count": 16,
   "id": "9dc11e2c-390a-43c5-9277-1d47c23cf72a",
   "metadata": {},
   "outputs": [],
   "source": [
    "# ### Build the Model Using an Ensemble of Advanced Pre-trained Models\n",
    "# Changes start here\n",
    "\n",
    "# Define the input tensor\n",
    "input_tensor = Input(shape=(img_height, img_width, 3))"
   ]
  },
  {
   "cell_type": "code",
   "execution_count": 19,
   "id": "1578ab52-891f-458b-ac99-ffd659957663",
   "metadata": {},
   "outputs": [],
   "source": [
    "# EfficientNetB0 base model\n",
    "base_model1 = EfficientNetB0(weights='imagenet', include_top=False, input_tensor=input_tensor)\n",
    "base_model1.trainable = False"
   ]
  },
  {
   "cell_type": "code",
   "execution_count": 20,
   "id": "03e3ca71-7747-4a67-827c-745becba86c1",
   "metadata": {},
   "outputs": [
    {
     "name": "stdout",
     "output_type": "stream",
     "text": [
      "Downloading data from https://storage.googleapis.com/tensorflow/keras-applications/inception_v3/inception_v3_weights_tf_dim_ordering_tf_kernels_notop.h5\n",
      "\u001b[1m87910968/87910968\u001b[0m \u001b[32m━━━━━━━━━━━━━━━━━━━━\u001b[0m\u001b[37m\u001b[0m \u001b[1m45s\u001b[0m 1us/step\n"
     ]
    }
   ],
   "source": [
    "# InceptionV3 base model\n",
    "base_model2 = InceptionV3(weights='imagenet', include_top=False, input_tensor=input_tensor)\n",
    "base_model2.trainable = False"
   ]
  },
  {
   "cell_type": "code",
   "execution_count": 21,
   "id": "2aec368c-47d7-4fb7-b298-b6e8e4e70149",
   "metadata": {},
   "outputs": [],
   "source": [
    "# VGG16 base model\n",
    "base_model3 = VGG16(weights='imagenet', include_top=False, input_tensor=input_tensor)\n",
    "base_model3.trainable = False"
   ]
  },
  {
   "cell_type": "code",
   "execution_count": 22,
   "id": "97433436-983a-4b59-81f1-b72e95167af9",
   "metadata": {},
   "outputs": [],
   "source": [
    "# Extract features from each base model\n",
    "x1 = base_model1.output\n",
    "x2 = base_model2.output\n",
    "x3 = base_model3.output"
   ]
  },
  {
   "cell_type": "code",
   "execution_count": 23,
   "id": "fa50b761-6a9d-415b-b5a6-4dd6fa4787c2",
   "metadata": {},
   "outputs": [],
   "source": [
    "# Pool the extracted features\n",
    "x1 = GlobalAveragePooling2D()(x1)\n",
    "x2 = GlobalAveragePooling2D()(x2)\n",
    "x3 = GlobalAveragePooling2D()(x3)"
   ]
  },
  {
   "cell_type": "code",
   "execution_count": 24,
   "id": "1550d303-5ea3-43a3-a6f6-21d54d372cd9",
   "metadata": {},
   "outputs": [],
   "source": [
    "# Concatenate the features from different models\n",
    "concatenated = Concatenate()([x1, x2, x3])"
   ]
  },
  {
   "cell_type": "code",
   "execution_count": 25,
   "id": "c74dde34-43b5-494e-971e-d8861069991f",
   "metadata": {},
   "outputs": [],
   "source": [
    "# Add custom dense layers\n",
    "x = Dense(1024, activation='relu')(concatenated)\n",
    "x = Dropout(0.5)(x)\n",
    "predictions = Dense(num_classes, activation='softmax')(x)"
   ]
  },
  {
   "cell_type": "code",
   "execution_count": 26,
   "id": "4bc033c7-e88e-4875-8ae9-8fa3f7c0a603",
   "metadata": {},
   "outputs": [],
   "source": [
    "# Define the ensemble model\n",
    "ensemble_model = Model(inputs=input_tensor, outputs=predictions)"
   ]
  },
  {
   "cell_type": "code",
   "execution_count": 27,
   "id": "ed03fd4a-b614-425f-b9c0-a1cdc383a2a9",
   "metadata": {},
   "outputs": [],
   "source": [
    "# Compile the ensemble model\n",
    "ensemble_model.compile(optimizer=Adam(learning_rate=0.0001), loss='categorical_crossentropy', metrics=['accuracy'])"
   ]
  },
  {
   "cell_type": "code",
   "execution_count": 28,
   "id": "57f0e4d0-cbcb-4115-80cf-d1cd6f40dd48",
   "metadata": {},
   "outputs": [
    {
     "name": "stdout",
     "output_type": "stream",
     "text": [
      "Epoch 1/20\n"
     ]
    },
    {
     "name": "stderr",
     "output_type": "stream",
     "text": [
      "C:\\Users\\nisha\\AppData\\Local\\Programs\\Python\\Python311\\Lib\\site-packages\\keras\\src\\trainers\\data_adapters\\py_dataset_adapter.py:121: UserWarning: Your `PyDataset` class should call `super().__init__(**kwargs)` in its constructor. `**kwargs` can include `workers`, `use_multiprocessing`, `max_queue_size`. Do not pass these arguments to `fit()`, as they will be ignored.\n",
      "  self._warn_if_super_not_called()\n"
     ]
    },
    {
     "name": "stdout",
     "output_type": "stream",
     "text": [
      "\u001b[1m43/43\u001b[0m \u001b[32m━━━━━━━━━━━━━━━━━━━━\u001b[0m\u001b[37m\u001b[0m \u001b[1m167s\u001b[0m 3s/step - accuracy: 0.4992 - loss: 1.4092 - val_accuracy: 0.5375 - val_loss: 1.1710\n",
      "Epoch 2/20\n",
      "\u001b[1m 1/43\u001b[0m \u001b[37m━━━━━━━━━━━━━━━━━━━━\u001b[0m \u001b[1m1:45\u001b[0m 3s/step - accuracy: 0.5625 - loss: 1.1275"
     ]
    },
    {
     "name": "stderr",
     "output_type": "stream",
     "text": [
      "C:\\Users\\nisha\\AppData\\Local\\Programs\\Python\\Python311\\Lib\\contextlib.py:155: UserWarning: Your input ran out of data; interrupting training. Make sure that your dataset or generator can generate at least `steps_per_epoch * epochs` batches. You may need to use the `.repeat()` function when building your dataset.\n",
      "  self.gen.throw(typ, value, traceback)\n"
     ]
    },
    {
     "name": "stdout",
     "output_type": "stream",
     "text": [
      "\u001b[1m43/43\u001b[0m \u001b[32m━━━━━━━━━━━━━━━━━━━━\u001b[0m\u001b[37m\u001b[0m \u001b[1m5s\u001b[0m 63ms/step - accuracy: 0.5625 - loss: 1.1275 - val_accuracy: 0.6071 - val_loss: 1.1996\n",
      "Epoch 3/20\n",
      "\u001b[1m43/43\u001b[0m \u001b[32m━━━━━━━━━━━━━━━━━━━━\u001b[0m\u001b[37m\u001b[0m \u001b[1m143s\u001b[0m 3s/step - accuracy: 0.5735 - loss: 1.1231 - val_accuracy: 0.5375 - val_loss: 1.1920\n",
      "Epoch 4/20\n",
      "\u001b[1m43/43\u001b[0m \u001b[32m━━━━━━━━━━━━━━━━━━━━\u001b[0m\u001b[37m\u001b[0m \u001b[1m5s\u001b[0m 53ms/step - accuracy: 0.6250 - loss: 1.0328 - val_accuracy: 0.4643 - val_loss: 1.2776\n",
      "Epoch 5/20\n",
      "\u001b[1m43/43\u001b[0m \u001b[32m━━━━━━━━━━━━━━━━━━━━\u001b[0m\u001b[37m\u001b[0m \u001b[1m145s\u001b[0m 3s/step - accuracy: 0.5925 - loss: 1.0584 - val_accuracy: 0.5469 - val_loss: 1.1637\n",
      "Epoch 6/20\n",
      "\u001b[1m43/43\u001b[0m \u001b[32m━━━━━━━━━━━━━━━━━━━━\u001b[0m\u001b[37m\u001b[0m \u001b[1m5s\u001b[0m 53ms/step - accuracy: 0.6875 - loss: 0.9097 - val_accuracy: 0.3929 - val_loss: 1.3761\n",
      "Epoch 7/20\n",
      "\u001b[1m43/43\u001b[0m \u001b[32m━━━━━━━━━━━━━━━━━━━━\u001b[0m\u001b[37m\u001b[0m \u001b[1m145s\u001b[0m 3s/step - accuracy: 0.5708 - loss: 1.1137 - val_accuracy: 0.5594 - val_loss: 1.1399\n",
      "Epoch 8/20\n",
      "\u001b[1m43/43\u001b[0m \u001b[32m━━━━━━━━━━━━━━━━━━━━\u001b[0m\u001b[37m\u001b[0m \u001b[1m5s\u001b[0m 53ms/step - accuracy: 0.6875 - loss: 0.8774 - val_accuracy: 0.5714 - val_loss: 1.1762\n",
      "Epoch 9/20\n",
      "\u001b[1m43/43\u001b[0m \u001b[32m━━━━━━━━━━━━━━━━━━━━\u001b[0m\u001b[37m\u001b[0m \u001b[1m145s\u001b[0m 3s/step - accuracy: 0.5972 - loss: 1.0549 - val_accuracy: 0.5500 - val_loss: 1.1741\n",
      "Epoch 10/20\n",
      "\u001b[1m43/43\u001b[0m \u001b[32m━━━━━━━━━━━━━━━━━━━━\u001b[0m\u001b[37m\u001b[0m \u001b[1m5s\u001b[0m 53ms/step - accuracy: 0.6562 - loss: 1.0076 - val_accuracy: 0.7143 - val_loss: 0.8679\n",
      "Epoch 11/20\n",
      "\u001b[1m43/43\u001b[0m \u001b[32m━━━━━━━━━━━━━━━━━━━━\u001b[0m\u001b[37m\u001b[0m \u001b[1m145s\u001b[0m 3s/step - accuracy: 0.6054 - loss: 1.0650 - val_accuracy: 0.5469 - val_loss: 1.1606\n",
      "Epoch 12/20\n",
      "\u001b[1m43/43\u001b[0m \u001b[32m━━━━━━━━━━━━━━━━━━━━\u001b[0m\u001b[37m\u001b[0m \u001b[1m5s\u001b[0m 53ms/step - accuracy: 0.6875 - loss: 0.9713 - val_accuracy: 0.4643 - val_loss: 1.2872\n",
      "Epoch 13/20\n",
      "\u001b[1m43/43\u001b[0m \u001b[32m━━━━━━━━━━━━━━━━━━━━\u001b[0m\u001b[37m\u001b[0m \u001b[1m145s\u001b[0m 3s/step - accuracy: 0.6230 - loss: 0.9843 - val_accuracy: 0.5437 - val_loss: 1.1519\n",
      "Epoch 14/20\n",
      "\u001b[1m43/43\u001b[0m \u001b[32m━━━━━━━━━━━━━━━━━━━━\u001b[0m\u001b[37m\u001b[0m \u001b[1m5s\u001b[0m 53ms/step - accuracy: 0.5938 - loss: 0.9022 - val_accuracy: 0.5000 - val_loss: 1.3890\n",
      "Epoch 15/20\n",
      "\u001b[1m43/43\u001b[0m \u001b[32m━━━━━━━━━━━━━━━━━━━━\u001b[0m\u001b[37m\u001b[0m \u001b[1m147s\u001b[0m 3s/step - accuracy: 0.5947 - loss: 1.0434 - val_accuracy: 0.5250 - val_loss: 1.1806\n",
      "Epoch 16/20\n",
      "\u001b[1m43/43\u001b[0m \u001b[32m━━━━━━━━━━━━━━━━━━━━\u001b[0m\u001b[37m\u001b[0m \u001b[1m5s\u001b[0m 54ms/step - accuracy: 0.7188 - loss: 0.8224 - val_accuracy: 0.6429 - val_loss: 1.0970\n",
      "Epoch 17/20\n",
      "\u001b[1m43/43\u001b[0m \u001b[32m━━━━━━━━━━━━━━━━━━━━\u001b[0m\u001b[37m\u001b[0m \u001b[1m145s\u001b[0m 3s/step - accuracy: 0.6064 - loss: 1.0013 - val_accuracy: 0.5500 - val_loss: 1.1046\n",
      "Epoch 18/20\n",
      "\u001b[1m43/43\u001b[0m \u001b[32m━━━━━━━━━━━━━━━━━━━━\u001b[0m\u001b[37m\u001b[0m \u001b[1m5s\u001b[0m 54ms/step - accuracy: 0.6875 - loss: 0.9847 - val_accuracy: 0.5714 - val_loss: 1.5189\n",
      "Epoch 19/20\n",
      "\u001b[1m43/43\u001b[0m \u001b[32m━━━━━━━━━━━━━━━━━━━━\u001b[0m\u001b[37m\u001b[0m \u001b[1m147s\u001b[0m 3s/step - accuracy: 0.6192 - loss: 0.9763 - val_accuracy: 0.5594 - val_loss: 1.1316\n",
      "Epoch 20/20\n",
      "\u001b[1m43/43\u001b[0m \u001b[32m━━━━━━━━━━━━━━━━━━━━\u001b[0m\u001b[37m\u001b[0m \u001b[1m5s\u001b[0m 53ms/step - accuracy: 0.5938 - loss: 1.1207 - val_accuracy: 0.6429 - val_loss: 1.0207\n"
     ]
    }
   ],
   "source": [
    "# ### Train the Model\n",
    "epochs = 20\n",
    "\n",
    "history = ensemble_model.fit(\n",
    "    train_generator,\n",
    "    steps_per_epoch=train_generator.samples // batch_size,\n",
    "    validation_data=validation_generator,\n",
    "    validation_steps=validation_generator.samples // batch_size,\n",
    "    epochs=epochs\n",
    ")"
   ]
  },
  {
   "cell_type": "code",
   "execution_count": 29,
   "id": "d522fb1b-2a5c-4d19-afb8-0f2cccd74773",
   "metadata": {},
   "outputs": [
    {
     "name": "stdout",
     "output_type": "stream",
     "text": [
      "\u001b[1m11/11\u001b[0m \u001b[32m━━━━━━━━━━━━━━━━━━━━\u001b[0m\u001b[37m\u001b[0m \u001b[1m32s\u001b[0m 3s/step - accuracy: 0.5501 - loss: 1.1405\n",
      "Validation Loss: 1.164863109588623\n",
      "Validation Accuracy: 0.5517241358757019\n"
     ]
    }
   ],
   "source": [
    "# ### Evaluate the Model\n",
    "val_loss, val_accuracy = ensemble_model.evaluate(validation_generator)\n",
    "print(f\"Validation Loss: {val_loss}\")\n",
    "print(f\"Validation Accuracy: {val_accuracy}\")"
   ]
  },
  {
   "cell_type": "code",
   "execution_count": 30,
   "id": "cfe2183d-8e69-4b65-9405-33b0dea5576f",
   "metadata": {},
   "outputs": [
    {
     "name": "stdout",
     "output_type": "stream",
     "text": [
      "\u001b[1m11/11\u001b[0m \u001b[32m━━━━━━━━━━━━━━━━━━━━\u001b[0m\u001b[37m\u001b[0m \u001b[1m37s\u001b[0m 3s/step\n"
     ]
    }
   ],
   "source": [
    "# ### Confusion Matrix and Classification Report\n",
    "validation_generator.reset()\n",
    "preds = ensemble_model.predict(validation_generator, steps=validation_generator.samples // batch_size + 1)\n",
    "y_pred = np.argmax(preds, axis=1)\n",
    "y_true = validation_generator.classes[:len(y_pred)]"
   ]
  },
  {
   "cell_type": "code",
   "execution_count": 31,
   "id": "e3c755c4-6bb5-4308-895d-68868bb28b46",
   "metadata": {},
   "outputs": [
    {
     "name": "stdout",
     "output_type": "stream",
     "text": [
      "Confusion Matrix\n",
      "[[142   0  38   4   0]\n",
      " [ 48   0   7   2   0]\n",
      " [ 70   0  10   2   0]\n",
      " [ 10   0   5   0   0]\n",
      " [  7   0   2   1   0]]\n"
     ]
    }
   ],
   "source": [
    "print(\"Confusion Matrix\")\n",
    "cm = confusion_matrix(y_true, y_pred)\n",
    "print(cm)"
   ]
  },
  {
   "cell_type": "code",
   "execution_count": 32,
   "id": "a75a6425-e8d8-40f5-996f-075004bd3384",
   "metadata": {},
   "outputs": [
    {
     "name": "stdout",
     "output_type": "stream",
     "text": [
      "Classification Report\n",
      "              precision    recall  f1-score   support\n",
      "\n",
      "           0       0.51      0.77      0.62       184\n",
      "           1       0.00      0.00      0.00        57\n",
      "           2       0.16      0.12      0.14        82\n",
      "           3       0.00      0.00      0.00        15\n",
      "           4       0.00      0.00      0.00        10\n",
      "\n",
      "    accuracy                           0.44       348\n",
      "   macro avg       0.13      0.18      0.15       348\n",
      "weighted avg       0.31      0.44      0.36       348\n",
      "\n"
     ]
    },
    {
     "name": "stderr",
     "output_type": "stream",
     "text": [
      "C:\\Users\\nisha\\AppData\\Local\\Programs\\Python\\Python311\\Lib\\site-packages\\sklearn\\metrics\\_classification.py:1517: UndefinedMetricWarning: Precision is ill-defined and being set to 0.0 in labels with no predicted samples. Use `zero_division` parameter to control this behavior.\n",
      "  _warn_prf(average, modifier, f\"{metric.capitalize()} is\", len(result))\n",
      "C:\\Users\\nisha\\AppData\\Local\\Programs\\Python\\Python311\\Lib\\site-packages\\sklearn\\metrics\\_classification.py:1517: UndefinedMetricWarning: Precision is ill-defined and being set to 0.0 in labels with no predicted samples. Use `zero_division` parameter to control this behavior.\n",
      "  _warn_prf(average, modifier, f\"{metric.capitalize()} is\", len(result))\n",
      "C:\\Users\\nisha\\AppData\\Local\\Programs\\Python\\Python311\\Lib\\site-packages\\sklearn\\metrics\\_classification.py:1517: UndefinedMetricWarning: Precision is ill-defined and being set to 0.0 in labels with no predicted samples. Use `zero_division` parameter to control this behavior.\n",
      "  _warn_prf(average, modifier, f\"{metric.capitalize()} is\", len(result))\n"
     ]
    }
   ],
   "source": [
    "print(\"Classification Report\")\n",
    "cr = classification_report(y_true, y_pred, target_names=[str(i) for i in range(num_classes)])\n",
    "print(cr)"
   ]
  },
  {
   "cell_type": "code",
   "execution_count": 33,
   "id": "869873c8-c5cb-4ade-8a17-ca66bd1f7f5c",
   "metadata": {},
   "outputs": [
    {
     "data": {
      "image/png": "[encoded data removed]",
      "text/plain": [
       "<Figure size 1200x400 with 2 Axes>"
      ]
     },
     "metadata": {},
     "output_type": "display_data"
    }
   ],
   "source": [
    "# ### Plotting Training History\n",
    "def plot_history(history):\n",
    "    # Plot accuracy and loss over epochs\n",
    "    fig, ax = plt.subplots(1, 2, figsize=(12, 4))\n",
    "    \n",
    "    # Plot training & validation accuracy\n",
    "    ax[0].plot(history.history['accuracy'], label='train accuracy')\n",
    "    ax[0].plot(history.history['val_accuracy'], label='validation accuracy')\n",
    "    ax[0].set_title('Model Accuracy')\n",
    "    ax[0].set_ylabel('Accuracy')\n",
    "    ax[0].set_xlabel('Epoch')\n",
    "    ax[0].legend(loc='best')\n",
    "    \n",
    "    # Plot training & validation loss\n",
    "    ax[1].plot(history.history['loss'], label='train loss')\n",
    "    ax[1].plot(history.history['val_loss'], label='validation loss')\n",
    "    ax[1].set_title('Model Loss')\n",
    "    ax[1].set_ylabel('Loss')\n",
    "    ax[1].set_xlabel('Epoch')\n",
    "    ax[1].legend(loc='best')\n",
    "    \n",
    "    plt.tight_layout()\n",
    "    plt.show()\n",
    "\n",
    "plot_history(history)"
   ]
  },
  {
   "cell_type": "code",
   "execution_count": null,
   "id": "ae4f50a9-a4f3-49bd-843f-d1fbc23bbd27",
   "metadata": {},
   "outputs": [],
   "source": []
  }
 ],
 "metadata": {
  "kernelspec": {
   "display_name": "Python 3 (ipykernel)",
   "language": "python",
   "name": "python3"
  },
  "language_info": {
   "codemirror_mode": {
    "name": "ipython",
    "version": 3
   },
   "file_extension": ".py",
   "mimetype": "text/x-python",
   "name": "python",
   "nbconvert_exporter": "python",
   "pygments_lexer": "ipython3",
   "version": "3.11.4"
  }
 },
 "nbformat": 4,
 "nbformat_minor": 5
}
