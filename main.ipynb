{
 "cells": [
  {
   "cell_type": "code",
   "execution_count": 1,
   "id": "cc01bb46-825c-4825-bbd4-cbf8db87266d",
   "metadata": {},
   "outputs": [
    {
     "name": "stdout",
     "output_type": "stream",
     "text": [
      "Faria\n"
     ]
    }
   ],
   "source": [
    "print(\"Faria\")"
   ]
  },
  {
   "cell_type": "code",
   "execution_count": null,
   "id": "73e52e9f-4323-441e-9e29-871a9ac43707",
   "metadata": {},
   "outputs": [],
   "source": []
  }
 ],
 "metadata": {
  "kernelspec": {
   "display_name": "Python 3 (ipykernel)",
   "language": "python",
   "name": "python3"
  },
  "language_info": {
   "codemirror_mode": {
    "name": "ipython",
    "version": 3
   },
   "file_extension": ".py",
   "mimetype": "text/x-python",
   "name": "python",
   "nbconvert_exporter": "python",
   "pygments_lexer": "ipython3",
   "version": "3.11.4"
  }
 },
 "nbformat": 4,
 "nbformat_minor": 5
}
